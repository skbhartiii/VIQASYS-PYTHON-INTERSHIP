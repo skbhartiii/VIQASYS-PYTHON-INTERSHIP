{
 "cells": [
  {
   "cell_type": "markdown",
   "metadata": {},
   "source": [
    "___\n",
    "\n",
    "<a href='https://viqasys.com/wp-content/uploads/2021/07/ns1.png'><img src='https://viqasys.com/wp-content/uploads/2021/07/ns1.png'/></a>\n",
    "___\n",
    "<center><em>Content Copyright VIQASYS INNOVATIONS PVT LTD.</em></center>\n",
    "\n",
    "# Assignment 1"
   ]
  },
  {
   "cell_type": "markdown",
   "metadata": {},
   "source": [
    "# Question 1\n",
    "\n",
    "In the below elements, identify which of them are values or expressions. Values can be integers or strings, while expressions will be mathematical operators or combinations thereof.\n",
    "'hello', \n",
    "-87., ), o, lu, alu, ssion)'(Value))str\" (Value)"
   ]
  },
  {
   "cell_type": "markdown",
   "metadata": {},
   "source": [
    "value = 'hello',-87., ), o, lu, alu, ssion)'(Value)\n",
    "expression = ),(Value))str\" (Value)"
   ]
  },
  {
   "cell_type": "markdown",
   "metadata": {},
   "source": [
    "## Question 2\n",
    "\n",
    "Explain the difference between a string and a variable.\n"
   ]
  },
  {
   "cell_type": "markdown",
   "metadata": {},
   "source": [
    "String\n",
    "\n",
    "String is data type in python which has sequence of characters .\n",
    "It is collection of characters enclosed within single(‘ ’), double(“ “) or triple(‘’’ ‘’’) quotes.\n",
    "Strings are often used to represent text in programming.   \n",
    "Eg. ‘python’.\n",
    "\n",
    "Variable\n",
    "\n",
    "Variable is symbolic name or an identifier which can store value or data inside it. \n",
    "Variables can hold various types of data, including numbers, characters, and more complex data structures.\n",
    "Variable is symbolic name or an identifier for memory location.     \n",
    "Eg. Age = 25 ."
   ]
  },
  {
   "cell_type": "markdown",
   "metadata": {},
   "source": [
    "## Question 3\n",
    "Describe three different data types commonly used in programming"
   ]
  },
  {
   "cell_type": "markdown",
   "metadata": {},
   "source": [
    "Three different data types commonly used in programming are:-\n",
    "\n",
    "Integer =It is fundamental data type in python which can have whole number without any decimal point. Integer can have positive or negative value.\n",
    "\n",
    "Eg. A = 10 or a = -5\n",
    "\n",
    "Float =It is fundamental data type which can store numbers with decimal point. It can also have positive or negative value.\n",
    "\n",
    "Eg. 15.5, -30.1, 42.0, 836.125 etc.\n",
    "\n",
    "Boolean = Boolean data type have only two values True and False.\n",
    "\n",
    "Eg. True, False."
   ]
  },
  {
   "cell_type": "markdown",
   "metadata": {},
   "source": [
    "## Question 4\n",
    "What is an expression made up of? What is the general purpose of expressions?\n"
   ]
  },
  {
   "cell_type": "markdown",
   "metadata": {},
   "source": [
    "An expression is a combination of values, variables, operators and function calls that can be evaluated to produce a result.It represents a combination that returns a value.\n",
    "\n",
    "Eg. res=3+5*2 (expression and variable res gives value for this expression.).\n",
    "\n",
    "The general purpose of expression is to evaluate and produce a value.It is used for calculation, conditions, and various operations in programming.\n",
    "\n"
   ]
  },
  {
   "cell_type": "markdown",
   "metadata": {},
   "source": [
    "## Question 5\n",
    "\n",
    "Explain the difference between an expression and a statement, using examples if necessary."
   ]
  },
  {
   "cell_type": "markdown",
   "metadata": {},
   "source": [
    "Expression:\n",
    "\n",
    "An expression is a combination of values, variables, operators and function calls that can be evaluated to produce a result.\n",
    "\n",
    "It represents a combination that returns a value.\n",
    "\n",
    "Eg. res=3+5*2\n",
    "\n",
    "3+5*2 is expression and variable res gives value for this expression\n",
    "\n",
    "Statement:\n",
    "\n",
    "A statement is a complete line of code that performs a specific action.\n",
    "\n",
    "Unlike expressions, statements do not necessarily return a value.\n",
    "\n",
    "Eg. spam = 10.\n",
    "\n",
    "This is statement and it returns the value 10."
   ]
  },
  {
   "cell_type": "markdown",
   "metadata": {},
   "source": [
    "## Question 6\n",
    "After running the following code, what does the variable \"bacon\" contain?\n",
    "\n",
    "bacon = 22 <br>\n",
    "\n",
    "bacon + 1"
   ]
  },
  {
   "cell_type": "markdown",
   "metadata": {},
   "source": [
    "23"
   ]
  },
  {
   "cell_type": "markdown",
   "metadata": {},
   "source": [
    "## Question 7\n",
    "Determine the values of the following two terms:<br>\n",
    "'spam' + 'spamspam'<br>\n",
    "'spam' * 3\n",
    "\n"
   ]
  },
  {
   "cell_type": "markdown",
   "metadata": {},
   "source": [
    "'spam' + 'spamspam' == 'spamspamspam'  \n",
    "'spam' * 3  ==  'spamspamspam'"
   ]
  },
  {
   "cell_type": "markdown",
   "metadata": {},
   "source": [
    "## Question 8\n",
    "\n",
    "Why is \"eggs\" a valid variable name while \"100\" is invalid?"
   ]
  },
  {
   "cell_type": "markdown",
   "metadata": {},
   "source": [
    " It’s because variable name can not be integer. It can not start with integer."
   ]
  },
  {
   "cell_type": "markdown",
   "metadata": {},
   "source": [
    "## Question 9\n",
    "\n",
    "List three functions that can be used to obtain the integer, floating-point number, or string version of a value."
   ]
  },
  {
   "cell_type": "markdown",
   "metadata": {},
   "source": [
    "1.int() = it will convert any digit value into integer.\n",
    "\n",
    "Eg.  int('25'), int(15.5), int(True)  etc.\n",
    "\n",
    "2.float() = it will convert any digit value into floating point number which is having decimal points.\n",
    "\n",
    "Eg.  float('25'), float(15), Float(True)  etc..\n",
    "\n",
    "3.str() = it will convert value into string format.\n",
    "\n",
    "Eg.  str(25), str(15.5), str(True)  etc."
   ]
  },
  {
   "cell_type": "markdown",
   "metadata": {},
   "source": [
    "## Question 10 \n",
    "Explain why the following expression causes an error and suggest how to fix it:<br>\n",
    "'I have eaten ' + 99 + ' burritos.'\n",
    "\n"
   ]
  },
  {
   "cell_type": "markdown",
   "metadata": {},
   "source": [
    "he above expression will cause an error because in the expression two values are strings and one is integer so integer can’t be concatenated with strings. The expression will throw an error like Unsupported Operand Type.\n",
    "\n",
    "We can fix this issue by below expression\n",
    "\n",
    "'I have eaten' + ' 99 ' + ' burritos.'"
   ]
  },
  {
   "cell_type": "markdown",
   "metadata": {},
   "source": [
    "## Question 11\n",
    "Write a Python program to calculate the sum of two numbers and print the result.\n",
    "gative, or zero."
   ]
  },
  {
   "cell_type": "code",
   "execution_count": 3,
   "metadata": {},
   "outputs": [
    {
     "name": "stdout",
     "output_type": "stream",
     "text": [
      "total :  16\n",
      "total :  8\n",
      "total :  -10\n",
      "total :  -15\n"
     ]
    }
   ],
   "source": [
    "def sum(x, y):\n",
    "    y = x + y\n",
    "    print(\"total : \",y)\n",
    "    \n",
    "sum(10, 6)\n",
    "sum(10, -2)\n",
    "sum(-10, 0)\n",
    "sum(-10, -5)"
   ]
  },
  {
   "cell_type": "markdown",
   "metadata": {},
   "source": [
    "## Question 12\n",
    "Create a Python program that takes the user's name as input and prints a greeting message.\n",
    "\n"
   ]
  },
  {
   "cell_type": "code",
   "execution_count": 2,
   "metadata": {},
   "outputs": [
    {
     "name": "stdout",
     "output_type": "stream",
     "text": [
      "Welcome !  shivam\n"
     ]
    }
   ],
   "source": [
    "user_name = input(\"Your name: \")\n",
    "print(\"Welcome ! \",user_name)"
   ]
  },
  {
   "cell_type": "markdown",
   "metadata": {},
   "source": [
    "## Question 13\n",
    "Write a Python program to calculate the area of a rectangle given its length and width. (Assume length and width are provided as inputs.)\n",
    "\n"
   ]
  },
  {
   "cell_type": "code",
   "execution_count": 4,
   "metadata": {},
   "outputs": [
    {
     "name": "stdout",
     "output_type": "stream",
     "text": [
      "The area of a recangle is :  342\n"
     ]
    }
   ],
   "source": [
    "length = 18\n",
    "width = 19\n",
    "\n",
    "area = length * width\n",
    "\n",
    "print(\"The area of a recangle is : \",area)"
   ]
  },
  {
   "cell_type": "markdown",
   "metadata": {},
   "source": [
    "## Question 14\n",
    "Create a Python program that asks the user for their age and prints out a message saying whether they are a child, teenager, or adult based on their age.\n",
    "\n"
   ]
  },
  {
   "cell_type": "code",
   "execution_count": 4,
   "metadata": {},
   "outputs": [
    {
     "name": "stdout",
     "output_type": "stream",
     "text": [
      "You are child\n"
     ]
    }
   ],
   "source": [
    "age = int(input(\"Enter Your Age\"))\n",
    "\n",
    "if age < 13:\n",
    "    print(\"You are child\")\n",
    "elif 13 <= age <= 20:\n",
    "    print(\"You are teenager\")\n",
    "else:\n",
    "    print(\"You are adult\")"
   ]
  },
  {
   "cell_type": "markdown",
   "metadata": {},
   "source": [
    "## Question 15\n",
    "Write a Python program to convert temperature from Celsius to Fahrenheit. (Assume Celsius temperature is provided as input.)\n",
    "\n"
   ]
  },
  {
   "cell_type": "code",
   "execution_count": null,
   "metadata": {},
   "outputs": [
    {
     "name": "stdout",
     "output_type": "stream",
     "text": [
      "Fahrenheit :  100.76\n"
     ]
    }
   ],
   "source": [
    "celsius = 38.2\n",
    "fahrenheit = (celsius*9/5)+32\n",
    "print(\"Fahrenheit : \",fahrenheit)"
   ]
  },
  {
   "cell_type": "markdown",
   "metadata": {},
   "source": [
    "## Question 16\n",
    "Create a Python program that takes the radius of a circle as input and calculates its area. (Assume the value of pi is 3.14.)\n",
    "\n"
   ]
  },
  {
   "cell_type": "code",
   "execution_count": 5,
   "metadata": {},
   "outputs": [
    {
     "name": "stdout",
     "output_type": "stream",
     "text": [
      "Area of a circle : 452.3893421169302\n"
     ]
    }
   ],
   "source": [
    "import math\n",
    "radius = float(input(\"Enter the radius of the circle :\"))\n",
    "area = math.pi * radius**2\n",
    "print(\"Area of a circle :\",area)"
   ]
  },
  {
   "cell_type": "markdown",
   "metadata": {},
   "source": [
    "## Question 17\n",
    "Write a Python program to find the maximum of two numbers entered by the user.\n",
    "\n"
   ]
  },
  {
   "cell_type": "code",
   "execution_count": 6,
   "metadata": {},
   "outputs": [
    {
     "name": "stdout",
     "output_type": "stream",
     "text": [
      "Maximum Number is :  6.0\n"
     ]
    }
   ],
   "source": [
    "x = float(input(\"Enter 1st Number :\"))\n",
    "y = float(input(\"Enter 2nd Number :\"))\n",
    "max_value = max(x, y)\n",
    "print(\"Maximum Number is : \",max_value)"
   ]
  },
  {
   "cell_type": "markdown",
   "metadata": {},
   "source": [
    "## Question 18\n",
    "Create a Python program that asks the user to enter two numbers and prints out their product.\n",
    "\n"
   ]
  },
  {
   "cell_type": "code",
   "execution_count": 7,
   "metadata": {},
   "outputs": [
    {
     "name": "stdout",
     "output_type": "stream",
     "text": [
      "The product is : 24.0\n"
     ]
    }
   ],
   "source": [
    "x = float(input(\"Enter 1st Number :\"))\n",
    "y = float(input(\"Enter 2nd Number :\"))\n",
    "\n",
    "product = x * y\n",
    "print(\"The product is :\",product)"
   ]
  },
  {
   "cell_type": "markdown",
   "metadata": {},
   "source": [
    "## Question 19\n",
    "Write a Python program that prompts the user to enter a number and then prints whether the number is positive, negative, or zero."
   ]
  },
  {
   "cell_type": "code",
   "execution_count": 1,
   "metadata": {},
   "outputs": [
    {
     "name": "stdout",
     "output_type": "stream",
     "text": [
      "Number is positive\n"
     ]
    }
   ],
   "source": [
    "x = float(input(\"Enter 1st Number :\"))\n",
    "\n",
    "if x > 0:\n",
    "    print(\"Number is positive\")\n",
    "elif x < 0:\n",
    "    print(\"Number is negative\")\n",
    "else:\n",
    "    print(\"Number is zero\")"
   ]
  }
 ],
 "metadata": {
  "anaconda-cloud": {},
  "kernelspec": {
   "display_name": "Python 3 (ipykernel)",
   "language": "python",
   "name": "python3"
  },
  "language_info": {
   "codemirror_mode": {
    "name": "ipython",
    "version": 3
   },
   "file_extension": ".py",
   "mimetype": "text/x-python",
   "name": "python",
   "nbconvert_exporter": "python",
   "pygments_lexer": "ipython3",
   "version": "3.12.1"
  }
 },
 "nbformat": 4,
 "nbformat_minor": 4
}
